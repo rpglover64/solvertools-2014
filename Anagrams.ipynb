{
 "metadata": {
  "language": "Julia",
  "name": ""
 },
 "nbformat": 3,
 "nbformat_minor": 0,
 "worksheets": [
  {
   "cells": [
    {
     "cell_type": "code",
     "collapsed": false,
     "input": [
      "cd(\"/Users/rspeer/code/solvertools-2014/julia\")\n",
      "using Autoreload\n",
      "arequire(\"SolverTools.jl\")"
     ],
     "language": "python",
     "metadata": {},
     "outputs": [
      {
       "output_type": "stream",
       "stream": "stderr",
       "text": [
        "WARNING: Could not add IJulia hooks:\n",
        "ErrorException(\"push_preexecute_hook not defined\")"
       ]
      },
      {
       "output_type": "stream",
       "stream": "stderr",
       "text": [
        "\n"
       ]
      }
     ],
     "prompt_number": 1
    },
    {
     "cell_type": "code",
     "collapsed": false,
     "input": [
      "wordlist = load_wordlist(\"../wordlists/google-books-1grams.freq.txt\")"
     ],
     "language": "python",
     "metadata": {},
     "outputs": [
      {
       "output_type": "stream",
       "stream": "stdout",
       "text": [
        "Loading wordlist: ../wordlists/google-books-1grams.freq.txt\n"
       ]
      },
      {
       "output_type": "stream",
       "stream": "stdout",
       "text": [
        "\tStoring greppable string"
       ]
      },
      {
       "output_type": "stream",
       "stream": "stdout",
       "text": [
        "\n"
       ]
      },
      {
       "metadata": {},
       "output_type": "pyout",
       "prompt_number": 2,
       "text": [
        "Wordmap with 967763 entries like (\"SOPORIFICS\",-25.063282f0)"
       ]
      }
     ],
     "prompt_number": 2
    },
    {
     "cell_type": "code",
     "collapsed": false,
     "input": [
      "grep(wordlist, \"J...A\")"
     ],
     "language": "python",
     "metadata": {},
     "outputs": [
      {
       "metadata": {},
       "output_type": "pyout",
       "prompt_number": 3,
       "text": [
        "10-element Array{UTF8String,1}:\n",
        " \"JULIA\"\n",
        " \"JUNTA\"\n",
        " \"JUDEA\"\n",
        " \"JUANA\"\n",
        " \"JAFFA\"\n",
        " \"JAINA\"\n",
        " \"JENNA\"\n",
        " \"JOLLA\"\n",
        " \"JNANA\"\n",
        " \"JUXTA\""
       ]
      }
     ],
     "prompt_number": 3
    },
    {
     "cell_type": "code",
     "collapsed": false,
     "input": [
      "atable = build_anagram_table(wordlist)"
     ],
     "language": "python",
     "metadata": {},
     "outputs": [
      {
       "output_type": "stream",
       "stream": "stdout",
       "text": [
        "\tgenerating alphagrams of 2 letters"
       ]
      },
      {
       "output_type": "stream",
       "stream": "stdout",
       "text": [
        "\n",
        "\tgenerating alphagrams of 3 letters\n",
        "\tgenerating alphagrams of 4 letters\n",
        "\tgenerating alphagrams of 5 letters"
       ]
      },
      {
       "output_type": "stream",
       "stream": "stdout",
       "text": [
        "\n",
        "\tgenerating alphagrams of 6 letters"
       ]
      },
      {
       "output_type": "stream",
       "stream": "stdout",
       "text": [
        "\n",
        "\tgenerating alphagrams of 7 letters"
       ]
      },
      {
       "output_type": "stream",
       "stream": "stdout",
       "text": [
        "\n",
        "\tgenerating alphagrams of 8 letters"
       ]
      },
      {
       "output_type": "stream",
       "stream": "stdout",
       "text": [
        "\n",
        "\tgenerating alphagrams of 9 letters"
       ]
      },
      {
       "output_type": "stream",
       "stream": "stdout",
       "text": [
        "\n",
        "\tgenerating alphagrams of 10 letters"
       ]
      },
      {
       "output_type": "stream",
       "stream": "stdout",
       "text": [
        "\n",
        "\tgenerating alphagrams of 11 letters"
       ]
      },
      {
       "output_type": "stream",
       "stream": "stdout",
       "text": [
        "\n",
        "\tgenerating alphagrams of 12 letters"
       ]
      },
      {
       "output_type": "stream",
       "stream": "stdout",
       "text": [
        "\n",
        "\tgenerating alphagrams of 13 letters"
       ]
      },
      {
       "output_type": "stream",
       "stream": "stdout",
       "text": [
        "\n",
        "\tgenerating alphagrams of 14 letters"
       ]
      },
      {
       "output_type": "stream",
       "stream": "stdout",
       "text": [
        "\n",
        "\tgenerating alphagrams of 15 letters"
       ]
      },
      {
       "output_type": "stream",
       "stream": "stdout",
       "text": [
        "\n",
        "\tgenerating alphagrams of 16 letters"
       ]
      },
      {
       "output_type": "stream",
       "stream": "stdout",
       "text": [
        "\n",
        "\tgenerating alphagrams of 17 letters"
       ]
      },
      {
       "output_type": "stream",
       "stream": "stdout",
       "text": [
        "\n",
        "\tgenerating alphagrams of 18 letters"
       ]
      },
      {
       "output_type": "stream",
       "stream": "stdout",
       "text": [
        "\n",
        "\tgenerating alphagrams of 19 letters"
       ]
      },
      {
       "output_type": "stream",
       "stream": "stdout",
       "text": [
        "\n",
        "\tgenerating alphagrams of 20 letters\n",
        "\tgenerating alphagrams of 21 letters\n",
        "\tgenerating alphagrams of 22 letters\n",
        "\tgenerating alphagrams of 23 letters\n",
        "\tgenerating alphagrams of 24 letters\n",
        "\tgenerating alphagrams of 25 letters\n",
        "\tgenerating alphagrams of 26 letters\n",
        "\tgenerating alphagrams of 27 letters\n",
        "\tgenerating alphagrams of 28 letters\n",
        "\tgenerating alphagrams of 29 letters\n",
        "\tgenerating alphagrams of 30 letters\n",
        "\tgenerating alphagrams of 31 letters\n",
        "\tgenerating alphagrams of 32 letters\n",
        "\tgenerating alphagrams of 33 letters\n",
        "\tgenerating alphagrams of 34 letters\n",
        "\tgenerating alphagrams of 35 letters\n",
        "\tgenerating alphagrams of 40 letters\n",
        "\tgenerating alphagrams of 40 letters\n",
        "\tgenerating alphagrams of 81 letters\n"
       ]
      },
      {
       "metadata": {},
       "output_type": "pyout",
       "prompt_number": 4,
       "text": [
        "AnagramTable with offsets [1,27,378,3509,16271,46525,105748,195109,298979,395771  \u2026  633426,633437,633446,633449,633453,633454,633457,633459,633460,633461]"
       ]
      }
     ],
     "prompt_number": 4
    },
    {
     "cell_type": "code",
     "collapsed": false,
     "input": [
      "anagram(atable, \"FRUMIOUS BANDERSNATCH\")"
     ],
     "language": "python",
     "metadata": {},
     "outputs": [],
     "prompt_number": 10
    },
    {
     "cell_type": "code",
     "collapsed": false,
     "input": [],
     "language": "python",
     "metadata": {},
     "outputs": []
    }
   ],
   "metadata": {}
  }
 ]
}